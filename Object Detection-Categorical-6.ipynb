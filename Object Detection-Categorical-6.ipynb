{
 "cells": [
  {
   "cell_type": "code",
   "execution_count": 1,
   "metadata": {},
   "outputs": [
    {
     "name": "stderr",
     "output_type": "stream",
     "text": [
      "Using TensorFlow backend.\n"
     ]
    }
   ],
   "source": [
    "# Importing the Keras libraries and packages\n",
    "from keras.models import Sequential\n",
    "from keras.layers import Conv2D\n",
    "from keras.layers import MaxPooling2D\n",
    "from keras.layers import Flatten\n",
    "from keras.layers import Dense"
   ]
  },
  {
   "cell_type": "code",
   "execution_count": 2,
   "metadata": {},
   "outputs": [
    {
     "name": "stdout",
     "output_type": "stream",
     "text": [
      "310\n"
     ]
    }
   ],
   "source": [
    "import numpy as np\n",
    "import glob\n",
    "train_count=len(list(glob.iglob(\"train_set/*/*.png\", recursive=True)))\n",
    "print(train_count)"
   ]
  },
  {
   "cell_type": "code",
   "execution_count": 3,
   "metadata": {},
   "outputs": [
    {
     "name": "stdout",
     "output_type": "stream",
     "text": [
      "155\n"
     ]
    }
   ],
   "source": [
    "import numpy as np\n",
    "import glob\n",
    "test_count=len(list(glob.iglob(\"test_set/*/*.png\", recursive=True)))\n",
    "print(test_count)"
   ]
  },
  {
   "cell_type": "code",
   "execution_count": 4,
   "metadata": {
    "collapsed": true
   },
   "outputs": [],
   "source": [
    "# Initialising the CNN\n",
    "classifier = Sequential()\n",
    "\n",
    "# Step 1 - Convolution\n",
    "classifier.add(Conv2D(32, (3, 3), input_shape = (64, 64, 3), activation = 'relu'))\n",
    "#classifier.add(Conv2D(32, (3, 3), input_shape = (None, None, 3), activation = 'relu'))\n",
    "# Step 2 - Pooling\n",
    "classifier.add(MaxPooling2D(pool_size = (2, 2)))\n",
    "\n",
    "# Adding a second convolutional layer\n",
    "classifier.add(Conv2D(32, (3, 3), activation = 'relu'))\n",
    "classifier.add(MaxPooling2D(pool_size = (2, 2)))\n",
    "\n",
    "# Step 3 - Flattening\n",
    "classifier.add(Flatten())\n",
    "\n",
    "# Step 4 - Full connection\n",
    "classifier.add(Dense(units = 512, activation = 'relu'))\n",
    "classifier.add(Dense(units = 6, activation = 'softmax'))\n",
    "\n",
    "# Compiling the CNN\n",
    "classifier.compile(optimizer = 'adam', loss = 'categorical_crossentropy', metrics = ['accuracy'])\n"
   ]
  },
  {
   "cell_type": "code",
   "execution_count": 5,
   "metadata": {},
   "outputs": [
    {
     "name": "stdout",
     "output_type": "stream",
     "text": [
      "Found 310 images belonging to 6 classes.\n",
      "Found 155 images belonging to 6 classes.\n",
      "Epoch 1/10\n",
      "310/310 [==============================] - 222s 717ms/step - loss: 0.2416 - acc: 0.9239 - val_loss: 0.0072 - val_acc: 0.9935\n",
      "Epoch 2/10\n",
      "310/310 [==============================] - 216s 695ms/step - loss: 0.0193 - acc: 0.9944 - val_loss: 0.0053 - val_acc: 0.9935\n",
      "Epoch 3/10\n",
      "310/310 [==============================] - 214s 691ms/step - loss: 0.0118 - acc: 0.9961 - val_loss: 0.0177 - val_acc: 0.9935\n",
      "Epoch 4/10\n",
      "310/310 [==============================] - 214s 691ms/step - loss: 0.0123 - acc: 0.9969 - val_loss: 0.0016 - val_acc: 1.0000\n",
      "Epoch 5/10\n",
      "310/310 [==============================] - 213s 687ms/step - loss: 0.0364 - acc: 0.9912 - val_loss: 0.0547 - val_acc: 0.9935\n",
      "Epoch 6/10\n",
      "310/310 [==============================] - 215s 693ms/step - loss: 0.0113 - acc: 0.9964 - val_loss: 1.1356e-04 - val_acc: 1.0000\n",
      "Epoch 7/10\n",
      "310/310 [==============================] - 214s 690ms/step - loss: 0.0056 - acc: 0.9991 - val_loss: 5.1957e-04 - val_acc: 1.0000\n",
      "Epoch 8/10\n",
      "310/310 [==============================] - 214s 689ms/step - loss: 0.0018 - acc: 0.9996 - val_loss: 0.0021 - val_acc: 1.0000\n",
      "Epoch 9/10\n",
      "310/310 [==============================] - 215s 695ms/step - loss: 0.0068 - acc: 0.9983 - val_loss: 0.0029 - val_acc: 1.0000\n",
      "Epoch 10/10\n",
      "310/310 [==============================] - 214s 691ms/step - loss: 0.0048 - acc: 0.9987 - val_loss: 1.7743e-05 - val_acc: 1.0000\n"
     ]
    }
   ],
   "source": [
    "# Part 2 - Fitting the CNN to the images\n",
    "from keras.preprocessing.image import ImageDataGenerator\n",
    "train_datagen = ImageDataGenerator(rescale = 1./255,\n",
    "shear_range = 0.2,\n",
    "zoom_range = 0.2,\n",
    "horizontal_flip = True)\n",
    "test_datagen = ImageDataGenerator(rescale = 1./255)\n",
    "train_set = train_datagen.flow_from_directory('train_set',\n",
    "target_size = (64, 64),\n",
    "batch_size = 32,\n",
    "class_mode = 'categorical')\n",
    "test_set = test_datagen.flow_from_directory('test_set',\n",
    "target_size = (64, 64),\n",
    "batch_size = 32,\n",
    "class_mode = 'categorical')\n",
    "classifier.fit_generator(train_set,\n",
    "steps_per_epoch = train_count,\n",
    "epochs = 10,\n",
    "validation_data = test_set,\n",
    "validation_steps = test_count)\n",
    "\n",
    "\n",
    "classifier.save('model6.h5')\n",
    "classifier.save_weights('weights6.h5')"
   ]
  },
  {
   "cell_type": "code",
   "execution_count": 6,
   "metadata": {},
   "outputs": [
    {
     "name": "stdout",
     "output_type": "stream",
     "text": [
      "traffic_light\n"
     ]
    }
   ],
   "source": [
    "# Part 3 - Making new predictions\n",
    "import numpy as np\n",
    "from keras.preprocessing import image\n",
    "from keras.models import Sequential, load_model\n",
    "classifier = load_model('model6.h5')\n",
    "classifier.load_weights('weights6.h5')\n",
    "\n",
    "test_image = image.load_img('t7.png', target_size = (64, 64))\n",
    "test_image = image.img_to_array(test_image)\n",
    "test_image = np.expand_dims(test_image, axis = 0)\n",
    "pred = classifier.predict(test_image)\n",
    "result = pred[0]\n",
    "answer = np.argmax(result)\n",
    "train_set.class_indices\n",
    "if answer == 0:\n",
    "    print(\"left turns\")\n",
    "elif answer == 1:\n",
    "    print(\"misc\")\n",
    "elif answer == 2:\n",
    "    print(\"right_turns\")\n",
    "elif answer == 3:\n",
    "    print(\"stop\")\n",
    "elif answer == 4:\n",
    "    print(\"traffic_light\")\n",
    "elif answer == 5:\n",
    "    print(\"u_turn\")"
   ]
  },
  {
   "cell_type": "code",
   "execution_count": null,
   "metadata": {
    "collapsed": true
   },
   "outputs": [],
   "source": []
  }
 ],
 "metadata": {
  "kernelspec": {
   "display_name": "Python 3",
   "language": "python",
   "name": "python3"
  },
  "language_info": {
   "codemirror_mode": {
    "name": "ipython",
    "version": 3
   },
   "file_extension": ".py",
   "mimetype": "text/x-python",
   "name": "python",
   "nbconvert_exporter": "python",
   "pygments_lexer": "ipython3",
   "version": "3.6.3"
  }
 },
 "nbformat": 4,
 "nbformat_minor": 2
}
